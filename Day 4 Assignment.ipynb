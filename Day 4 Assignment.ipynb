{
 "cells": [
  {
   "cell_type": "code",
   "execution_count": 1,
   "metadata": {},
   "outputs": [],
   "source": [
    "#Assignment 1 -- FInd all occurences of substring in a given string"
   ]
  },
  {
   "cell_type": "code",
   "execution_count": 3,
   "metadata": {},
   "outputs": [
    {
     "name": "stdout",
     "output_type": "stream",
     "text": [
      "The occurences of we in we think we learn we perform at index positions of:  [0]\n",
      "The occurences of we in we think we learn we perform at index positions of:  [9]\n",
      "The occurences of we in we think we learn we perform at index positions of:  [18]\n"
     ]
    }
   ],
   "source": [
    "str1 = \"we think we learn we perform\"\n",
    "sub_str = \"we\"\n",
    "for i in range(len(str1)):\n",
    "    if str1.startswith(sub_str,i):\n",
    "        print(f\"The occurences of {sub_str} in {str1} at index positions of: \",[i])"
   ]
  },
  {
   "cell_type": "code",
   "execution_count": 2,
   "metadata": {},
   "outputs": [],
   "source": [
    "#Assignment 2 ---islower() and isupper() functions."
   ]
  },
  {
   "cell_type": "code",
   "execution_count": 23,
   "metadata": {},
   "outputs": [
    {
     "name": "stdout",
     "output_type": "stream",
     "text": [
      "False\n",
      "False\n",
      "False\n",
      "False\n"
     ]
    }
   ],
   "source": [
    "s1 = [\"HEY\",\"WELCOME\",\"IN\",\"PYTHON\"]\n",
    "for i in s1:\n",
    "    print(i.islower())"
   ]
  },
  {
   "cell_type": "code",
   "execution_count": 26,
   "metadata": {},
   "outputs": [
    {
     "name": "stdout",
     "output_type": "stream",
     "text": [
      "hey\n",
      "welcome\n",
      "in\n",
      "python\n"
     ]
    }
   ],
   "source": [
    "for i in s1:\n",
    "    print(i.lower())"
   ]
  },
  {
   "cell_type": "code",
   "execution_count": 27,
   "metadata": {},
   "outputs": [
    {
     "name": "stdout",
     "output_type": "stream",
     "text": [
      "False\n",
      "False\n",
      "False\n",
      "False\n"
     ]
    }
   ],
   "source": [
    "s2 = [\"hey\",\"welcome\",\"in\",\"python\"]\n",
    "for i in s2:\n",
    "    print(i.isupper())"
   ]
  },
  {
   "cell_type": "code",
   "execution_count": 34,
   "metadata": {},
   "outputs": [
    {
     "name": "stdout",
     "output_type": "stream",
     "text": [
      "HEY\n",
      "WELCOME\n",
      "IN\n",
      "PYTHON\n"
     ]
    }
   ],
   "source": [
    "for i in s1:\n",
    "    print(i.upper())"
   ]
  },
  {
   "cell_type": "code",
   "execution_count": 40,
   "metadata": {},
   "outputs": [
    {
     "name": "stdout",
     "output_type": "stream",
     "text": [
      "['my', 'name', 'is', 'ayush']\n"
     ]
    }
   ],
   "source": [
    "s3 = [\"mY\",\"NaMe\",\"iS\",\"aYuSh\"]\n",
    "lst = [i.lower() for i in s3]\n",
    "print(lst)"
   ]
  },
  {
   "cell_type": "code",
   "execution_count": 41,
   "metadata": {},
   "outputs": [
    {
     "name": "stdout",
     "output_type": "stream",
     "text": [
      "['MY', 'NAME', 'IS', 'AYUSH']\n"
     ]
    }
   ],
   "source": [
    "s3 = [\"mY\",\"NaMe\",\"iS\",\"aYuSh\"]\n",
    "lst = [i.upper() for i in s3]\n",
    "print(lst)"
   ]
  },
  {
   "cell_type": "code",
   "execution_count": null,
   "metadata": {},
   "outputs": [],
   "source": []
  }
 ],
 "metadata": {
  "kernelspec": {
   "display_name": "Python 3",
   "language": "python",
   "name": "python3"
  },
  "language_info": {
   "codemirror_mode": {
    "name": "ipython",
    "version": 3
   },
   "file_extension": ".py",
   "mimetype": "text/x-python",
   "name": "python",
   "nbconvert_exporter": "python",
   "pygments_lexer": "ipython3",
   "version": "3.7.6"
  }
 },
 "nbformat": 4,
 "nbformat_minor": 4
}
