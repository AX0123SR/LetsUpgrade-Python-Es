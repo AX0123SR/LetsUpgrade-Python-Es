{
 "cells": [
  {
   "cell_type": "code",
   "execution_count": 1,
   "metadata": {},
   "outputs": [],
   "source": [
    "#Assignment 1 - Write a program to sum of 'n' numbers using While loop."
   ]
  },
  {
   "cell_type": "code",
   "execution_count": 40,
   "metadata": {},
   "outputs": [
    {
     "name": "stdout",
     "output_type": "stream",
     "text": [
      "Enter the range you want the sum : 10\n",
      "Total sum from range 1 to 10 is:  55\n"
     ]
    }
   ],
   "source": [
    "sum = 0\n",
    "i=1\n",
    "num = int(input(\"Enter the range you want the sum : \"))\n",
    "while i in range(1,n+1):\n",
    "    sum = sum+i\n",
    "    i=i+1\n",
    "print(f\"Total sum from range 1 to {num} is: \", sum)"
   ]
  },
  {
   "cell_type": "code",
   "execution_count": null,
   "metadata": {},
   "outputs": [],
   "source": [
    "#Assignment 2 - Write a proggram to take an integer and check whether it is prime or not."
   ]
  },
  {
   "cell_type": "code",
   "execution_count": 51,
   "metadata": {},
   "outputs": [
    {
     "name": "stdout",
     "output_type": "stream",
     "text": [
      "Enter any integer: 99\n",
      "99 is not prime\n"
     ]
    }
   ],
   "source": [
    "num = int(input(\"Enter any integer: \"))\n",
    "for i in range(2,num):\n",
    "    if num % i == 0:\n",
    "        print(f\"{num} is not prime\")\n",
    "        break\n",
    "else:\n",
    "        print(f\"{num} is prime\")"
   ]
  },
  {
   "cell_type": "code",
   "execution_count": null,
   "metadata": {},
   "outputs": [],
   "source": []
  }
 ],
 "metadata": {
  "kernelspec": {
   "display_name": "Python 3",
   "language": "python",
   "name": "python3"
  },
  "language_info": {
   "codemirror_mode": {
    "name": "ipython",
    "version": 3
   },
   "file_extension": ".py",
   "mimetype": "text/x-python",
   "name": "python",
   "nbconvert_exporter": "python",
   "pygments_lexer": "ipython3",
   "version": "3.7.6"
  }
 },
 "nbformat": 4,
 "nbformat_minor": 4
}
